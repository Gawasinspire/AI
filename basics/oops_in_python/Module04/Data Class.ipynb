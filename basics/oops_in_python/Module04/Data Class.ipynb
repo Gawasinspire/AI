{
 "cells": [
  {
   "cell_type": "markdown",
   "metadata": {},
   "source": [
    "# Data Class method"
   ]
  },
  {
   "cell_type": "markdown",
   "metadata": {},
   "source": [
    "The method which is available on the later versions of python 3.5 and above\n",
    "Though this method the class declaration becomes easier. Immutable and default arguements are easily passed"
   ]
  },
  {
   "cell_type": "code",
   "execution_count": 3,
   "metadata": {},
   "outputs": [],
   "source": [
    "# Using data classes to represent data objects\n",
    "\n",
    "from dataclasses import dataclass\n",
    "\n",
    "\n",
    "@dataclass\n",
    "class Book:\n",
    "    title: str\n",
    "    author: str\n",
    "    pages: int\n",
    "    price: float\n",
    "\n",
    "    # You can define methods in a dataclass like any other\n",
    "    def bookinfo(self):\n",
    "        return f\"{self.title}, by {self.author}\"\n",
    "\n"
   ]
  },
  {
   "cell_type": "code",
   "execution_count": 4,
   "metadata": {},
   "outputs": [
    {
     "name": "stdout",
     "output_type": "stream",
     "text": [
      "War and Peace\n",
      "JD Salinger\n",
      "Book(title='War and Peace', author='Leo Tolstoy', pages=1225, price=39.95)\n",
      "True\n",
      "Anna Karenina, by Leo Tolstoy\n"
     ]
    }
   ],
   "source": [
    "\n",
    "# create some instances\n",
    "b1 = Book(\"War and Peace\", \"Leo Tolstoy\", 1225, 39.95)\n",
    "b2 = Book(\"The Catcher in the Rye\", \"JD Salinger\", 234, 29.95)\n",
    "\n",
    "# access fields\n",
    "print(b1.title)\n",
    "print(b2.author)\n",
    "\n",
    "# print the book itself - dataclasses provide a default\n",
    "# implementation of the __repr__ function\n",
    "print(b1)\n",
    "\n",
    "# comparing two dataclasses\n",
    "b3 = Book(\"War and Peace\", \"Leo Tolstoy\", 1225, 39.95)\n",
    "print(b1 == b3)\n",
    "\n",
    "# change some fields, call a regular class method\n",
    "b1.title = \"Anna Karenina\"\n",
    "b1.pages = 864\n",
    "print(b1.bookinfo())\n"
   ]
  },
  {
   "cell_type": "code",
   "execution_count": 5,
   "metadata": {},
   "outputs": [],
   "source": [
    "# implementing default values in data classes\n",
    "\n",
    "from dataclasses import dataclass, field\n",
    "import random\n",
    "\n",
    "\n",
    "def price_func():\n",
    "    return float(random.randrange(20, 40))\n",
    "\n",
    "\n",
    "@dataclass\n",
    "class Book:\n",
    "    # you can define default values when attributes are declared\n",
    "    title: str = \"No Title\"\n",
    "    author: str = \"No Author\"\n",
    "    pages: int = 0\n",
    "    price: float = field(default_factory=price_func)\n"
   ]
  },
  {
   "cell_type": "code",
   "execution_count": 6,
   "metadata": {},
   "outputs": [
    {
     "name": "stdout",
     "output_type": "stream",
     "text": [
      "Book(title='No Title', author='No Author', pages=0, price=29.0)\n",
      "Book(title='War and Peace', author='Leo Tolstoy', pages=1225, price=33.0)\n",
      "Book(title='The Catcher in the Rye', author='JD Salinger', pages=234, price=35.0)\n"
     ]
    }
   ],
   "source": [
    "\n",
    "\n",
    "# Create a default book object\n",
    "b1 = Book()\n",
    "print(b1)\n",
    "\n",
    "# Create a specified book, price is set by field operator\n",
    "b1 = Book(\"War and Peace\", \"Leo Tolstoy\", 1225)\n",
    "b2 = Book(\"The Catcher in the Rye\", \"JD Salinger\", 234)\n",
    "print(b1)\n",
    "print(b2)\n"
   ]
  },
  {
   "cell_type": "code",
   "execution_count": 8,
   "metadata": {},
   "outputs": [],
   "source": [
    "# Creating immutable data classes\n",
    "\n",
    "from dataclasses import dataclass\n",
    "\n",
    "\n",
    "@dataclass(frozen=True)  # \"The \"frozen\" parameter makes the class immutable\n",
    "class ImmutableClass:\n",
    "    value1: str = \"Value 1\"\n",
    "    value2: int = 0\n",
    "\n",
    "    def somefunc(self, newval):\n",
    "        self.value2 = newval\n"
   ]
  },
  {
   "cell_type": "code",
   "execution_count": 9,
   "metadata": {},
   "outputs": [
    {
     "name": "stdout",
     "output_type": "stream",
     "text": [
      "Value 1\n"
     ]
    },
    {
     "ename": "FrozenInstanceError",
     "evalue": "cannot assign to field 'value1'",
     "output_type": "error",
     "traceback": [
      "\u001b[0;31m---------------------------------------------------------------------------\u001b[0m",
      "\u001b[0;31mFrozenInstanceError\u001b[0m                       Traceback (most recent call last)",
      "\u001b[0;32m<ipython-input-9-52fa04416f14>\u001b[0m in \u001b[0;36m<module>\u001b[0;34m\u001b[0m\n\u001b[1;32m      3\u001b[0m \u001b[0;34m\u001b[0m\u001b[0m\n\u001b[1;32m      4\u001b[0m \u001b[0;31m# attempting to change the value of an immutable class throws an exception\u001b[0m\u001b[0;34m\u001b[0m\u001b[0;34m\u001b[0m\u001b[0;34m\u001b[0m\u001b[0m\n\u001b[0;32m----> 5\u001b[0;31m \u001b[0mobj\u001b[0m\u001b[0;34m.\u001b[0m\u001b[0mvalue1\u001b[0m \u001b[0;34m=\u001b[0m \u001b[0;34m\"Another value\"\u001b[0m\u001b[0;34m\u001b[0m\u001b[0;34m\u001b[0m\u001b[0m\n\u001b[0m\u001b[1;32m      6\u001b[0m \u001b[0mprint\u001b[0m\u001b[0;34m(\u001b[0m\u001b[0mobj\u001b[0m\u001b[0;34m.\u001b[0m\u001b[0mvalue1\u001b[0m\u001b[0;34m)\u001b[0m\u001b[0;34m\u001b[0m\u001b[0;34m\u001b[0m\u001b[0m\n\u001b[1;32m      7\u001b[0m \u001b[0;34m\u001b[0m\u001b[0m\n",
      "\u001b[0;32m<string>\u001b[0m in \u001b[0;36m__setattr__\u001b[0;34m(self, name, value)\u001b[0m\n",
      "\u001b[0;31mFrozenInstanceError\u001b[0m: cannot assign to field 'value1'"
     ]
    }
   ],
   "source": [
    "\n",
    "\n",
    "obj = ImmutableClass()\n",
    "print(obj.value1)\n",
    "\n",
    "# attempting to change the value of an immutable class throws an exception\n",
    "obj.value1 = \"Another value\"\n",
    "print(obj.value1)\n",
    "\n",
    "# Frozen classes can't modify themselves either\n",
    "obj.somefunc(20)\n"
   ]
  },
  {
   "cell_type": "code",
   "execution_count": 11,
   "metadata": {},
   "outputs": [],
   "source": [
    "# Using the postinit function in data classes\n",
    "\n",
    "from dataclasses import dataclass\n",
    "\n",
    "\n",
    "@dataclass\n",
    "class Book:\n",
    "    title: str\n",
    "    author: str\n",
    "    pages: int\n",
    "    price: float\n",
    "\n",
    "    # the __post_init__ function lets us customize additional properties\n",
    "    # after the object has been initialized via built-in __init__\n",
    "    def __post_init__(self):\n",
    "        self.description = f\"{self.title} by {self.author}, {self.pages} pages\"\n"
   ]
  },
  {
   "cell_type": "code",
   "execution_count": 12,
   "metadata": {},
   "outputs": [
    {
     "name": "stdout",
     "output_type": "stream",
     "text": [
      "War and Peace by Leo Tolstoy, 1225 pages\n",
      "The Catcher in the Rye by JD Salinger, 234 pages\n"
     ]
    }
   ],
   "source": [
    "# create some Book objects\n",
    "b1 = Book(\"War and Peace\", \"Leo Tolstoy\", 1225, 39.95)\n",
    "b2 = Book(\"The Catcher in the Rye\", \"JD Salinger\", 234, 29.95)\n",
    "\n",
    "# use the description attribute\n",
    "print(b1.description)\n",
    "print(b2.description)\n"
   ]
  }
 ],
 "metadata": {
  "kernelspec": {
   "display_name": "Python 3",
   "language": "python",
   "name": "python3"
  },
  "language_info": {
   "codemirror_mode": {
    "name": "ipython",
    "version": 3
   },
   "file_extension": ".py",
   "mimetype": "text/x-python",
   "name": "python",
   "nbconvert_exporter": "python",
   "pygments_lexer": "ipython3",
   "version": "3.8.5"
  }
 },
 "nbformat": 4,
 "nbformat_minor": 2
}
