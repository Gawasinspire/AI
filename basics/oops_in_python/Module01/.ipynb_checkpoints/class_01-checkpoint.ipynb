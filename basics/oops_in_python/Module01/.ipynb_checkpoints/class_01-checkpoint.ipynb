{
 "cells": [
  {
   "cell_type": "markdown",
   "metadata": {},
   "source": [
    "# Classes and attributes"
   ]
  },
  {
   "cell_type": "code",
   "execution_count": 15,
   "metadata": {},
   "outputs": [],
   "source": [
    "class Book:\n",
    "    def __init__(self, title, author, pages, price):\n",
    "        self.title = title\n",
    "        self.author = author\n",
    "        self.pages = pages\n",
    "        self.price = price\n",
    "        self.__secret = \"This is a secret attribute, it is available inside this class\" \n",
    "        \n",
    "    def setTitle(self, newtitle):\n",
    "        self.title = newtitle\n",
    "        \n",
    "    def getPrice(self):\n",
    "        if hasattr(self,\"_discount\"):\n",
    "            return self.price - (self.price * self._discount)\n",
    "        else:\n",
    "            return self.price\n",
    "\n",
    "    def setDiscount(self, amount):\n",
    "        self._discount = amount              # _ means scope within\n"
   ]
  },
  {
   "cell_type": "code",
   "execution_count": 21,
   "metadata": {},
   "outputs": [],
   "source": [
    "class Newspaper:\n",
    "    def __init__(self, title):\n",
    "        self.title = title"
   ]
  },
  {
   "cell_type": "code",
   "execution_count": 22,
   "metadata": {},
   "outputs": [
    {
     "name": "stdout",
     "output_type": "stream",
     "text": [
      "Title 1\n",
      "BaeBaeBeeBaa\n",
      "10000\n",
      "9000.0\n"
     ]
    }
   ],
   "source": [
    "b1 = Book(\"Title 1\",\"cookoo\", 13,99)\n",
    "#b2 = Book(\"Title 2\")\n",
    "print(b1.title)\n",
    "b1.setTitle(\"BaeBaeBeeBaa\")\n",
    "print(b1.title)\n",
    "b2 = Book(\"Thirukural\", \"Thiruvalluvar\", 133,10000)\n",
    "print(b2.getPrice())\n",
    "# setting discount \n",
    "b2.setDiscount(0.10)\n",
    "print(b2.getPrice())\n",
    "\n",
    "n1 = Newspaper(\"The Hindu\")"
   ]
  },
  {
   "cell_type": "code",
   "execution_count": 24,
   "metadata": {},
   "outputs": [
    {
     "name": "stdout",
     "output_type": "stream",
     "text": [
      "<class '__main__.Book'>\n",
      "<class 'str'>\n",
      "<class 'float'>\n",
      "<class '__main__.Newspaper'>\n"
     ]
    }
   ],
   "source": [
    "print(type(b1))\n",
    "print(type(b1.title))\n",
    "print(type(b2.getPrice()))\n",
    "print(type(n1))\n"
   ]
  },
  {
   "cell_type": "code",
   "execution_count": 27,
   "metadata": {},
   "outputs": [
    {
     "name": "stdout",
     "output_type": "stream",
     "text": [
      "True\n",
      "True\n",
      "False\n",
      "True\n"
     ]
    }
   ],
   "source": [
    "print(isinstance(b1, Book))\n",
    "print(isinstance(b2, Book))\n",
    "print(isinstance(n1, Book))\n",
    "print(isinstance(n1, Newspaper))"
   ]
  },
  {
   "cell_type": "code",
   "execution_count": 41,
   "metadata": {},
   "outputs": [],
   "source": [
    "class Book:\n",
    "    # properties defined here are shared by all instances\n",
    "    BOOK_TYPES = (\"Hardcover\", \"Paperback\", \"Ebook\")\n",
    "    \n",
    "    # double-underscore properties are hidden from other classes\n",
    "    __booklist = None\n",
    "\n",
    "    # class method\n",
    "    @classmethod                    # class method declarator\n",
    "    def getBookType(cls):\n",
    "        return cls.BOOK_TYPES\n",
    "        \n",
    "    def __init__(self,title, booktype):\n",
    "        self.title = title\n",
    "        if (not booktype in Book.BOOK_TYPES):\n",
    "            raise ValueError(f\"{booktype} is not a valid book type\")\n",
    "        else:\n",
    "            self.booktype = booktype\n",
    "    \n",
    "    def getTitle(self):\n",
    "        return self.title\n",
    "    \n",
    "    # static method                                     \n",
    "    @staticmethod                  # when we want to make a class callable and not have its state modified \n",
    "    def getBookList():\n",
    "        if Book.__booklist == None:\n",
    "            Book.__booklist = []\n",
    "        return Book.__booklist\n",
    "            "
   ]
  },
  {
   "cell_type": "code",
   "execution_count": 42,
   "metadata": {},
   "outputs": [
    {
     "name": "stdout",
     "output_type": "stream",
     "text": [
      "Book types ('Hardcover', 'Paperback', 'Ebook')\n",
      "Harrypotter\n"
     ]
    }
   ],
   "source": [
    "print(\"Book types\",Book.getBookType())\n",
    "\n",
    "b1 = Book(\"Harrypotter\",\"Hardcover\")\n",
    "print(b1.getTitle())"
   ]
  },
  {
   "cell_type": "code",
   "execution_count": 44,
   "metadata": {},
   "outputs": [
    {
     "name": "stdout",
     "output_type": "stream",
     "text": [
      "[<__main__.Book object at 0x7f2ba0677c10>, <__main__.Book object at 0x7f2ba06c8610>]\n"
     ]
    }
   ],
   "source": [
    "\n",
    "# TODO: Use the static method to access a singleton object\n",
    "thebooks = Book.getBookList()\n",
    "thebooks.append(b1)\n",
    "thebooks.append(b2)\n",
    "print(thebooks)\n"
   ]
  }
 ],
 "metadata": {
  "kernelspec": {
   "display_name": "Python 3",
   "language": "python",
   "name": "python3"
  },
  "language_info": {
   "codemirror_mode": {
    "name": "ipython",
    "version": 3
   },
   "file_extension": ".py",
   "mimetype": "text/x-python",
   "name": "python",
   "nbconvert_exporter": "python",
   "pygments_lexer": "ipython3",
   "version": "3.9.2"
  }
 },
 "nbformat": 4,
 "nbformat_minor": 2
}
