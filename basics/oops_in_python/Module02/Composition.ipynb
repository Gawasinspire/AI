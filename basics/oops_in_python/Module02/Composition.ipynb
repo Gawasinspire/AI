{
 "cells": [
  {
   "cell_type": "markdown",
   "id": "egyptian-kelly",
   "metadata": {},
   "source": [
    "# Composition, object of object... "
   ]
  },
  {
   "cell_type": "code",
   "execution_count": 1,
   "id": "fifty-proposition",
   "metadata": {},
   "outputs": [
    {
     "name": "stdout",
     "output_type": "stream",
     "text": [
      "War and Peace\n",
      "Leo Tolstoy\n",
      "317\n"
     ]
    }
   ],
   "source": [
    "# Using composition to build complex objects\n",
    "\n",
    "class Book:                                                    # abstract base class\n",
    "    def __init__(self, title, price, author=None):\n",
    "        self.title = title\n",
    "        self.price = price\n",
    "        # Use references to other objects, like author and chapters\n",
    "        self.author = author\n",
    "        self.chapters = []\n",
    "\n",
    "    def addchapter(self, chapter):\n",
    "        self.chapters.append(chapter)                        #\n",
    "\n",
    "    def getbookpagecount(self):\n",
    "        result = 0\n",
    "        for ch in self.chapters:\n",
    "            result += ch.pagecount\n",
    "        return result\n",
    "\n",
    "\n",
    "class Author:\n",
    "    def __init__(self, fname, lname):\n",
    "        self.fname = fname\n",
    "        self.lname = lname\n",
    "\n",
    "    def __str__(self):\n",
    "        return f\"{self.fname} {self.lname}\"\n",
    "\n",
    "\n",
    "class Chapter:\n",
    "    def __init__(self, name, pagecount):\n",
    "        self.name = name\n",
    "        self.pagecount = pagecount\n",
    "\n",
    "\n",
    "auth = Author(\"Leo\", \"Tolstoy\")\n",
    "b1 = Book(\"War and Peace\", 39.95, auth)\n",
    "\n",
    "b1.addchapter(Chapter(\"Chapter 1\", 104))\n",
    "b1.addchapter(Chapter(\"Chapter 2\", 89))\n",
    "b1.addchapter(Chapter(\"Chapter 3\", 124))\n",
    "\n",
    "print(b1.title)\n",
    "print(b1.author)\n",
    "print(b1.getbookpagecount())\n"
   ]
  }
 ],
 "metadata": {
  "kernelspec": {
   "display_name": "Python 3",
   "language": "python",
   "name": "python3"
  },
  "language_info": {
   "codemirror_mode": {
    "name": "ipython",
    "version": 3
   },
   "file_extension": ".py",
   "mimetype": "text/x-python",
   "name": "python",
   "nbconvert_exporter": "python",
   "pygments_lexer": "ipython3",
   "version": "3.9.2"
  }
 },
 "nbformat": 4,
 "nbformat_minor": 5
}
