{
 "cells": [
  {
   "cell_type": "markdown",
   "id": "perceived-belly",
   "metadata": {},
   "source": [
    "# Abstract Base Class\n",
    "\n",
    "To extend in the future"
   ]
  },
  {
   "cell_type": "code",
   "execution_count": null,
   "id": "purple-drunk",
   "metadata": {},
   "outputs": [],
   "source": [
    "class GraphicShape:\n",
    "    def __init__(self):\n",
    "        super().__init__()\n",
    "\n",
    "    def calcArea(self):\n",
    "        pass\n",
    "\n",
    "\n",
    "class Circle(GraphicShape):\n",
    "    def __init__(self, radius):\n",
    "        self.radius = radius\n",
    "\n",
    "\n",
    "class Square(GraphicShape):\n",
    "    def __init__(self, side):\n",
    "        self.side = side\n"
   ]
  }
 ],
 "metadata": {
  "kernelspec": {
   "display_name": "Python 3",
   "language": "python",
   "name": "python3"
  },
  "language_info": {
   "codemirror_mode": {
    "name": "ipython",
    "version": 3
   },
   "file_extension": ".py",
   "mimetype": "text/x-python",
   "name": "python",
   "nbconvert_exporter": "python",
   "pygments_lexer": "ipython3",
   "version": "3.9.2"
  }
 },
 "nbformat": 4,
 "nbformat_minor": 5
}
