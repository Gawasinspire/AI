{
 "cells": [
  {
   "cell_type": "markdown",
   "metadata": {},
   "source": [
    "# Exercising Inheritance"
   ]
  },
  {
   "cell_type": "code",
   "execution_count": 1,
   "metadata": {},
   "outputs": [],
   "source": [
    "class Book:\n",
    "    def __init__(self, title, author, pages, price):\n",
    "        self.title = title\n",
    "        self.price = price\n",
    "        self.author = author\n",
    "        self.pages = pages\n",
    "\n",
    "\n",
    "class Magazine:\n",
    "    def __init__(self, title, publisher, price, period):\n",
    "        self.title = title\n",
    "        self.price = price\n",
    "        self.period = period\n",
    "        self.publisher = publisher\n",
    "\n",
    "\n",
    "class Newspaper:\n",
    "    def __init__(self, title, publisher, price, period):\n",
    "        self.title = title\n",
    "        self.price = price\n",
    "        self.period = period\n",
    "        self.publisher = publisher\n"
   ]
  },
  {
   "cell_type": "code",
   "execution_count": 2,
   "metadata": {},
   "outputs": [
    {
     "name": "stdout",
     "output_type": "stream",
     "text": [
      "Aldous Huxley\n",
      "New York Times Company\n",
      "29.0 5.99 6.0\n"
     ]
    }
   ],
   "source": [
    "\n",
    "\n",
    "b1 = Book(\"Brave New World\", \"Aldous Huxley\", 311, 29.0)\n",
    "n1 = Newspaper(\"NY Times\", \"New York Times Company\", 6.0, \"Daily\")\n",
    "m1 = Magazine(\"Scientific American\", \"Springer Nature\", 5.99, \"Monthly\")\n",
    "\n",
    "print(b1.author)\n",
    "print(n1.publisher)\n",
    "print(b1.price, m1.price, n1.price)\n"
   ]
  },
  {
   "cell_type": "code",
   "execution_count": 5,
   "metadata": {},
   "outputs": [],
   "source": [
    "class Publication:                            # base class\n",
    "    def __init__(self, title, price):\n",
    "        self.title = title\n",
    "        self.price = price\n",
    "\n",
    "\n",
    "class Periodical(Publication):\n",
    "    def __init__(self, title, price, publisher, period):\n",
    "        super().__init__(title, price)\n",
    "        self.period = period\n",
    "        self.publisher = publisher\n",
    "\n",
    "\n",
    "class Book(Publication):\n",
    "    def __init__(self, title, author, pages, price):\n",
    "        super().__init__(title, price)\n",
    "        self.author = author\n",
    "        self.pages = pages\n",
    "\n",
    "\n",
    "class Magazine(Periodical):\n",
    "    def __init__(self, title, publisher, price, period):\n",
    "        super().__init__(title, price, publisher, period)\n",
    "\n",
    "\n",
    "class Newspaper(Periodical):\n",
    "    def __init__(self, title, publisher, price, period):\n",
    "        super().__init__(title, price, publisher, period)\n"
   ]
  },
  {
   "cell_type": "code",
   "execution_count": 4,
   "metadata": {},
   "outputs": [
    {
     "name": "stdout",
     "output_type": "stream",
     "text": [
      "Aldous Huxley\n",
      "New York Times Company\n",
      "29.0 5.99 6.0\n"
     ]
    }
   ],
   "source": [
    "\n",
    "b1 = Book(\"Brave New World\", \"Aldous Huxley\", 311, 29.0)\n",
    "n1 = Newspaper(\"NY Times\", \"New York Times Company\", 6.0, \"Daily\")\n",
    "m1 = Magazine(\"Scientific American\", \"Springer Nature\", 5.99, \"Monthly\")\n",
    "\n",
    "print(b1.author)\n",
    "print(n1.publisher)\n",
    "print(b1.price, m1.price, n1.price)\n"
   ]
  },
  {
   "cell_type": "code",
   "execution_count": 1,
   "metadata": {},
   "outputs": [],
   "source": [
    "# Multiple Inheritance"
   ]
  },
  {
   "cell_type": "code",
   "execution_count": 2,
   "metadata": {},
   "outputs": [
    {
     "name": "stdout",
     "output_type": "stream",
     "text": [
      "(<class '__main__.C'>, <class '__main__.B'>, <class '__main__.A'>, <class 'object'>)\n",
      "foo\n",
      "bar\n",
      "Class B\n"
     ]
    }
   ],
   "source": [
    "# Understanding multiple inheritance\n",
    "\n",
    "\n",
    "class A:\n",
    "    def __init__(self):\n",
    "        super().__init__()\n",
    "        self.foo = \"foo\"\n",
    "        self.name = \"Class A\"\n",
    "\n",
    "\n",
    "class B:\n",
    "    def __init__(self):\n",
    "        super().__init__()\n",
    "        self.bar = \"bar\"\n",
    "        self.name = \"Class B\"\n",
    "\n",
    "\n",
    "class C(B, A):\n",
    "    def __init__(self):\n",
    "        super().__init__()\n",
    "\n",
    "    def showprops(self):\n",
    "        print(self.foo)\n",
    "        print(self.bar)\n",
    "        print(self.name)\n",
    "\n"
   ]
  },
  {
   "cell_type": "code",
   "execution_count": 3,
   "metadata": {},
   "outputs": [
    {
     "name": "stdout",
     "output_type": "stream",
     "text": [
      "(<class '__main__.C'>, <class '__main__.B'>, <class '__main__.A'>, <class 'object'>)\n",
      "foo\n",
      "bar\n",
      "Class B\n"
     ]
    }
   ],
   "source": [
    "\n",
    "# create the class and call showname()\n",
    "c = C()\n",
    "print(C.__mro__)                     # Method Resolution Order \n",
    "c.showprops()\n"
   ]
  }
 ],
 "metadata": {
  "kernelspec": {
   "display_name": "Python 3",
   "language": "python",
   "name": "python3"
  },
  "language_info": {
   "codemirror_mode": {
    "name": "ipython",
    "version": 3
   },
   "file_extension": ".py",
   "mimetype": "text/x-python",
   "name": "python",
   "nbconvert_exporter": "python",
   "pygments_lexer": "ipython3",
   "version": "3.9.2"
  }
 },
 "nbformat": 4,
 "nbformat_minor": 2
}
